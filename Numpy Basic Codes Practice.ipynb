{
 "cells": [
  {
   "cell_type": "markdown",
   "id": "5a5f8506",
   "metadata": {},
   "source": [
    "# Timing"
   ]
  },
  {
   "cell_type": "code",
   "execution_count": 1,
   "id": "cbea3410",
   "metadata": {},
   "outputs": [
    {
     "name": "stdout",
     "output_type": "stream",
     "text": [
      "4.48 µs ± 331 ns per loop (mean ± std. dev. of 7 runs, 100000 loops each)\n"
     ]
    }
   ],
   "source": [
    "%timeit [j**4 for j in range(1,9)]                             #timing for compilation"
   ]
  },
  {
   "cell_type": "code",
   "execution_count": 5,
   "id": "763af2e4",
   "metadata": {},
   "outputs": [
    {
     "name": "stdout",
     "output_type": "stream",
     "text": [
      "1.28 µs ± 77 ns per loop (mean ± std. dev. of 7 runs, 1000000 loops each)\n"
     ]
    }
   ],
   "source": [
    "import numpy as np\n",
    "%timeit np.arange(1,9)"
   ]
  },
  {
   "cell_type": "code",
   "execution_count": 8,
   "id": "71657229",
   "metadata": {},
   "outputs": [
    {
     "name": "stdout",
     "output_type": "stream",
     "text": [
      "Enter: 4\n",
      "[4]\n",
      "Enter: 5\n",
      "[4 5]\n",
      "Enter: 6\n",
      "[4 5 6]\n",
      "Enter: 7\n",
      "[4 5 6 7]\n"
     ]
    }
   ],
   "source": [
    "l= []\n",
    "for i in range(1,5):\n",
    "    int_l=int(input(\"Enter: \"))\n",
    "    l.append(int_l)                                            #range of the array\n",
    "    print(np.array(l))\n"
   ]
  },
  {
   "cell_type": "code",
   "execution_count": 9,
   "id": "4c490bb2",
   "metadata": {},
   "outputs": [
    {
     "data": {
      "text/plain": [
       "array([[1, 2, 3, 4],\n",
       "       [4, 5, 6, 7]])"
      ]
     },
     "execution_count": 9,
     "metadata": {},
     "output_type": "execute_result"
    }
   ],
   "source": [
    "ar2 = np.array([[1,2,3,4],[4,5,6,7]])\n",
    "ar2                                                   #2 dimensional array"
   ]
  },
  {
   "cell_type": "code",
   "execution_count": 12,
   "id": "0c194827",
   "metadata": {},
   "outputs": [
    {
     "name": "stdout",
     "output_type": "stream",
     "text": [
      "[[1 2 3 4]\n",
      " [4 5 6 7]]\n",
      "2\n"
     ]
    }
   ],
   "source": [
    "ar2 = np.array([[1,2,3,4],[4,5,6,7]])            #2 dimensions array\n",
    "print(ar2)\n",
    "print(ar2.ndim)         #for finding the dimensions"
   ]
  },
  {
   "cell_type": "code",
   "execution_count": 14,
   "id": "f45217db",
   "metadata": {},
   "outputs": [
    {
     "name": "stdout",
     "output_type": "stream",
     "text": [
      "[[[1 2 3 4 5]\n",
      "  [3 4 6 7 8]\n",
      "  [4 5 6 7 8]]]\n",
      "3\n"
     ]
    }
   ],
   "source": [
    "ar3=np.array([[[1,2,3,4,5],[3,4,6,7,8],[4,5,6,7,8]]])\n",
    "print(ar3)\n",
    "print(ar3.ndim)"
   ]
  },
  {
   "cell_type": "markdown",
   "id": "f3e8078b",
   "metadata": {},
   "source": [
    "# Zeroes"
   ]
  },
  {
   "cell_type": "code",
   "execution_count": 20,
   "id": "d236efe4",
   "metadata": {},
   "outputs": [
    {
     "name": "stdout",
     "output_type": "stream",
     "text": [
      "[0. 0. 0. 0.]\n",
      "\n",
      "[[0. 0. 0. 0.]\n",
      " [0. 0. 0. 0.]\n",
      " [0. 0. 0. 0.]]\n"
     ]
    }
   ],
   "source": [
    "import numpy as np\n",
    "ar_zeros=np.zeros(4)             #zeroes to the all elements\n",
    "ar_zeros1=np.zeros((3,4))\n",
    "\n",
    "print(ar_zeros)\n",
    "print()\n",
    "print(ar_zeros1)"
   ]
  },
  {
   "cell_type": "markdown",
   "id": "b898b1b1",
   "metadata": {},
   "source": [
    "# Ones"
   ]
  },
  {
   "cell_type": "code",
   "execution_count": 22,
   "id": "e9b17a18",
   "metadata": {},
   "outputs": [
    {
     "name": "stdout",
     "output_type": "stream",
     "text": [
      "[1. 1. 1. 1. 1. 1. 1. 1.]\n"
     ]
    }
   ],
   "source": [
    "import numpy as np                     #converting all the array numbers in '1'\n",
    "ar_ones=np.ones(8)\n",
    "print(ar_ones)"
   ]
  },
  {
   "cell_type": "markdown",
   "id": "a04a3a55",
   "metadata": {},
   "source": [
    "# Empty"
   ]
  },
  {
   "cell_type": "code",
   "execution_count": 24,
   "id": "9ebb5015",
   "metadata": {},
   "outputs": [
    {
     "name": "stdout",
     "output_type": "stream",
     "text": [
      "[0. 0. 0. 0.]\n"
     ]
    }
   ],
   "source": [
    "ar_em = np.empty(4)                        #empty array num'0'\n",
    "print(ar_em)"
   ]
  },
  {
   "cell_type": "markdown",
   "id": "ff72efa7",
   "metadata": {},
   "source": [
    "# Range"
   ]
  },
  {
   "cell_type": "code",
   "execution_count": 26,
   "id": "9813f1bd",
   "metadata": {},
   "outputs": [
    {
     "name": "stdout",
     "output_type": "stream",
     "text": [
      "[0 1 2 3]\n"
     ]
    }
   ],
   "source": [
    "ar_rn=np.arange(4)\n",
    "print(ar_rn)                              #Ranges of array"
   ]
  },
  {
   "cell_type": "markdown",
   "id": "db0d1962",
   "metadata": {},
   "source": [
    "# Digonal"
   ]
  },
  {
   "cell_type": "code",
   "execution_count": 27,
   "id": "52a15807",
   "metadata": {},
   "outputs": [
    {
     "name": "stdout",
     "output_type": "stream",
     "text": [
      "[[1. 0. 0.]\n",
      " [0. 1. 0.]\n",
      " [0. 0. 1.]]\n"
     ]
    }
   ],
   "source": [
    "ar_dia=np.eye(3)\n",
    "print(ar_dia)                               #diagonal to the array"
   ]
  },
  {
   "cell_type": "code",
   "execution_count": 31,
   "id": "11df58ac",
   "metadata": {},
   "outputs": [
    {
     "name": "stdout",
     "output_type": "stream",
     "text": [
      "[[1. 0. 0. 0. 0.]\n",
      " [0. 1. 0. 0. 0.]\n",
      " [0. 0. 1. 0. 0.]\n",
      " [0. 0. 0. 1. 0.]]\n"
     ]
    }
   ],
   "source": [
    "ar_dia=np.eye(4,5)\n",
    "print(ar_dia)                              With limited range diagonal array"
   ]
  },
  {
   "cell_type": "markdown",
   "id": "1abcc5b9",
   "metadata": {},
   "source": [
    "# Linespace"
   ]
  },
  {
   "cell_type": "code",
   "execution_count": 39,
   "id": "8a880f61",
   "metadata": {},
   "outputs": [
    {
     "name": "stdout",
     "output_type": "stream",
     "text": [
      "[ 0.  5. 10. 15. 20.]\n"
     ]
    }
   ],
   "source": [
    "ar_lin=np.linspace(0,20,num=5)                  #linspace multiple for array\n",
    "print(ar_lin)"
   ]
  },
  {
   "cell_type": "code",
   "execution_count": null,
   "id": "f9799aa0",
   "metadata": {},
   "outputs": [],
   "source": []
  }
 ],
 "metadata": {
  "kernelspec": {
   "display_name": "Python 3 (ipykernel)",
   "language": "python",
   "name": "python3"
  },
  "language_info": {
   "codemirror_mode": {
    "name": "ipython",
    "version": 3
   },
   "file_extension": ".py",
   "mimetype": "text/x-python",
   "name": "python",
   "nbconvert_exporter": "python",
   "pygments_lexer": "ipython3",
   "version": "3.9.13"
  }
 },
 "nbformat": 4,
 "nbformat_minor": 5
}
